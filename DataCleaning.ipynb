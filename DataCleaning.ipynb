{
  "cells": [
    {
      "cell_type": "code",
      "execution_count": null,
      "metadata": {
        "colab": {
          "base_uri": "https://localhost:8080/"
        },
        "id": "5edCPWU6CKj1",
        "outputId": "9e176b10-7028-4c7e-9aa6-fcd55078607f"
      },
      "outputs": [
        {
          "output_type": "stream",
          "name": "stdout",
          "text": [
            "Mounted at /content/drive\n"
          ]
        }
      ],
      "source": [
        "# prompt: グーグルドライブと連結\n",
        "\n",
        "from google.colab import drive\n",
        "drive.mount('/content/drive')"
      ]
    },
    {
      "cell_type": "code",
      "source": [
        "!pip install category_encoders"
      ],
      "metadata": {
        "colab": {
          "base_uri": "https://localhost:8080/"
        },
        "id": "DDDP_clbCfjc",
        "outputId": "9839ec52-98c8-45ae-ae6a-fee4295e4768"
      },
      "execution_count": null,
      "outputs": [
        {
          "output_type": "stream",
          "name": "stdout",
          "text": [
            "Collecting category_encoders\n",
            "  Downloading category_encoders-2.6.4-py2.py3-none-any.whl.metadata (8.0 kB)\n",
            "Requirement already satisfied: numpy>=1.14.0 in /usr/local/lib/python3.10/dist-packages (from category_encoders) (1.26.4)\n",
            "Requirement already satisfied: scikit-learn>=0.20.0 in /usr/local/lib/python3.10/dist-packages (from category_encoders) (1.5.2)\n",
            "Requirement already satisfied: scipy>=1.0.0 in /usr/local/lib/python3.10/dist-packages (from category_encoders) (1.13.1)\n",
            "Requirement already satisfied: statsmodels>=0.9.0 in /usr/local/lib/python3.10/dist-packages (from category_encoders) (0.14.4)\n",
            "Requirement already satisfied: pandas>=1.0.5 in /usr/local/lib/python3.10/dist-packages (from category_encoders) (2.2.2)\n",
            "Requirement already satisfied: patsy>=0.5.1 in /usr/local/lib/python3.10/dist-packages (from category_encoders) (0.5.6)\n",
            "Requirement already satisfied: python-dateutil>=2.8.2 in /usr/local/lib/python3.10/dist-packages (from pandas>=1.0.5->category_encoders) (2.8.2)\n",
            "Requirement already satisfied: pytz>=2020.1 in /usr/local/lib/python3.10/dist-packages (from pandas>=1.0.5->category_encoders) (2024.2)\n",
            "Requirement already satisfied: tzdata>=2022.7 in /usr/local/lib/python3.10/dist-packages (from pandas>=1.0.5->category_encoders) (2024.2)\n",
            "Requirement already satisfied: six in /usr/local/lib/python3.10/dist-packages (from patsy>=0.5.1->category_encoders) (1.16.0)\n",
            "Requirement already satisfied: joblib>=1.2.0 in /usr/local/lib/python3.10/dist-packages (from scikit-learn>=0.20.0->category_encoders) (1.4.2)\n",
            "Requirement already satisfied: threadpoolctl>=3.1.0 in /usr/local/lib/python3.10/dist-packages (from scikit-learn>=0.20.0->category_encoders) (3.5.0)\n",
            "Requirement already satisfied: packaging>=21.3 in /usr/local/lib/python3.10/dist-packages (from statsmodels>=0.9.0->category_encoders) (24.1)\n",
            "Downloading category_encoders-2.6.4-py2.py3-none-any.whl (82 kB)\n",
            "\u001b[2K   \u001b[90m━━━━━━━━━━━━━━━━━━━━━━━━━━━━━━━━━━━━━━━━\u001b[0m \u001b[32m82.0/82.0 kB\u001b[0m \u001b[31m2.0 MB/s\u001b[0m eta \u001b[36m0:00:00\u001b[0m\n",
            "\u001b[?25hInstalling collected packages: category_encoders\n",
            "Successfully installed category_encoders-2.6.4\n"
          ]
        }
      ]
    },
    {
      "cell_type": "code",
      "source": [
        "import pandas as pd\n",
        "import numpy as np\n",
        "import matplotlib.pyplot as plt\n",
        "import seaborn as sns\n",
        "from sklearn.preprocessing import LabelEncoder, OneHotEncoder,MinMaxScaler\n",
        "from imblearn.over_sampling import SMOTE\n",
        "from category_encoders.target_encoder import TargetEncoder\n",
        "from sklearn.model_selection import train_test_split\n",
        "from sklearn.metrics import roc_auc_score\n",
        "from sklearn.model_selection import RandomizedSearchCV\n",
        "# import optuna\n",
        "# from optuna import Trial\n",
        "from imblearn.combine import SMOTEENN\n",
        "from collections import Counter\n",
        "\n",
        "from xgboost import XGBClassifier\n",
        "\n",
        "from lightgbm import LGBMClassifier\n",
        "from imblearn.over_sampling import BorderlineSMOTE\n",
        "from scipy.stats import uniform, randint\n",
        "import warnings\n",
        "warnings.filterwarnings('ignore')\n",
        "from sklearn.ensemble import RandomForestClassifier , AdaBoostClassifier , GradientBoostingClassifier , ExtraTreesClassifier , VotingClassifier\n",
        "from sklearn.linear_model import LogisticRegression\n",
        "from sklearn.neighbors import KNeighborsClassifier\n",
        "from sklearn.tree import DecisionTreeClassifier\n",
        "from sklearn.neural_network import MLPClassifier\n",
        "from sklearn.svm import SVC\n",
        "from sklearn.model_selection import GridSearchCV , cross_val_score , StratifiedKFold , learning_curve\n",
        "from sklearn.impute import KNNImputer"
      ],
      "metadata": {
        "colab": {
          "base_uri": "https://localhost:8080/"
        },
        "id": "08TU5Dq2btO6",
        "outputId": "ec747348-73b2-43e3-8f39-3ab31b28daf5"
      },
      "execution_count": null,
      "outputs": [
        {
          "output_type": "stream",
          "name": "stderr",
          "text": [
            "/usr/local/lib/python3.10/dist-packages/dask/dataframe/__init__.py:42: FutureWarning: \n",
            "Dask dataframe query planning is disabled because dask-expr is not installed.\n",
            "\n",
            "You can install it with `pip install dask[dataframe]` or `conda install dask`.\n",
            "This will raise in a future version.\n",
            "\n",
            "  warnings.warn(msg, FutureWarning)\n"
          ]
        }
      ]
    },
    {
      "cell_type": "code",
      "execution_count": null,
      "metadata": {
        "id": "E1I5iOnvvg1L"
      },
      "outputs": [],
      "source": [
        "client = pd.read_csv(\"/content/drive/MyDrive/A_comp/Client.csv\")\n",
        "record = pd.read_csv(\"/content/drive/MyDrive/A_comp/Record.csv\")"
      ]
    },
    {
      "cell_type": "code",
      "source": [
        "pd.set_option('display.max_info_columns', 1000)\n",
        "pd.set_option('display.max_columns', 1000)"
      ],
      "metadata": {
        "id": "FL_AFZUH1-Nf"
      },
      "execution_count": null,
      "outputs": []
    },
    {
      "cell_type": "markdown",
      "metadata": {
        "id": "1vk_vSjk-YFb"
      },
      "source": [
        "# EDA"
      ]
    },
    {
      "cell_type": "code",
      "execution_count": null,
      "metadata": {
        "id": "x26sbQC-1N8I",
        "colab": {
          "base_uri": "https://localhost:8080/"
        },
        "outputId": "8583a95e-8ac1-4eac-d89e-7944bd535b7d"
      },
      "outputs": [
        {
          "output_type": "stream",
          "name": "stdout",
          "text": [
            "<class 'pandas.core.frame.DataFrame'>\n",
            "RangeIndex: 100000 entries, 0 to 99999\n",
            "Data columns (total 50 columns):\n",
            " #   Column            Non-Null Count   Dtype  \n",
            "---  ------            --------------   -----  \n",
            " 0   uniqsubs          100000 non-null  int64  \n",
            " 1   actvsubs          100000 non-null  int64  \n",
            " 2   new_cell          100000 non-null  object \n",
            " 3   crclscod          100000 non-null  object \n",
            " 4   asl_flag          100000 non-null  object \n",
            " 5   totcalls          100000 non-null  int64  \n",
            " 6   totmou            100000 non-null  float64\n",
            " 7   totrev            100000 non-null  float64\n",
            " 8   adjrev            100000 non-null  float64\n",
            " 9   adjmou            100000 non-null  float64\n",
            " 10  adjqty            100000 non-null  int64  \n",
            " 11  avgrev            100000 non-null  float64\n",
            " 12  avgmou            100000 non-null  float64\n",
            " 13  avgqty            100000 non-null  float64\n",
            " 14  avg3mou           100000 non-null  int64  \n",
            " 15  avg3qty           100000 non-null  int64  \n",
            " 16  avg3rev           100000 non-null  int64  \n",
            " 17  avg6mou           97161 non-null   float64\n",
            " 18  avg6qty           97161 non-null   float64\n",
            " 19  avg6rev           97161 non-null   float64\n",
            " 20  prizm_social_one  92612 non-null   object \n",
            " 21  area              99960 non-null   object \n",
            " 22  dualband          99999 non-null   object \n",
            " 23  refurb_new        99999 non-null   object \n",
            " 24  hnd_price         99153 non-null   float64\n",
            " 25  phones            99999 non-null   float64\n",
            " 26  models            99999 non-null   float64\n",
            " 27  hnd_webcap        89811 non-null   object \n",
            " 28  truck             98268 non-null   float64\n",
            " 29  rv                98268 non-null   float64\n",
            " 30  ownrent           66294 non-null   object \n",
            " 31  lor               69810 non-null   float64\n",
            " 32  dwlltype          68091 non-null   object \n",
            " 33  marital           98268 non-null   object \n",
            " 34  adults            76981 non-null   float64\n",
            " 35  infobase          77921 non-null   object \n",
            " 36  income            74564 non-null   float64\n",
            " 37  numbcars          50634 non-null   float64\n",
            " 38  HHstatin          62077 non-null   object \n",
            " 39  dwllsize          61692 non-null   object \n",
            " 40  forgntvl          98268 non-null   float64\n",
            " 41  ethnic            98268 non-null   object \n",
            " 42  kid0_2            98268 non-null   object \n",
            " 43  kid3_5            98268 non-null   object \n",
            " 44  kid6_10           98268 non-null   object \n",
            " 45  kid11_15          98268 non-null   object \n",
            " 46  kid16_17          98268 non-null   object \n",
            " 47  creditcd          98268 non-null   object \n",
            " 48  eqpdays           99999 non-null   float64\n",
            " 49  Customer_ID       100000 non-null  int64  \n",
            "dtypes: float64(21), int64(8), object(21)\n",
            "memory usage: 38.1+ MB\n",
            "None\n",
            "-----------------------------\n",
            "<class 'pandas.core.frame.DataFrame'>\n",
            "RangeIndex: 100000 entries, 0 to 99999\n",
            "Data columns (total 51 columns):\n",
            " #   Column           Non-Null Count   Dtype  \n",
            "---  ------           --------------   -----  \n",
            " 0   rev_Mean         99643 non-null   float64\n",
            " 1   mou_Mean         99643 non-null   float64\n",
            " 2   totmrc_Mean      99643 non-null   float64\n",
            " 3   da_Mean          99643 non-null   float64\n",
            " 4   ovrmou_Mean      99643 non-null   float64\n",
            " 5   ovrrev_Mean      99643 non-null   float64\n",
            " 6   vceovr_Mean      99643 non-null   float64\n",
            " 7   datovr_Mean      99643 non-null   float64\n",
            " 8   roam_Mean        99643 non-null   float64\n",
            " 9   change_mou       99109 non-null   float64\n",
            " 10  change_rev       99109 non-null   float64\n",
            " 11  drop_vce_Mean    100000 non-null  float64\n",
            " 12  drop_dat_Mean    100000 non-null  float64\n",
            " 13  blck_vce_Mean    100000 non-null  float64\n",
            " 14  blck_dat_Mean    100000 non-null  float64\n",
            " 15  unan_vce_Mean    100000 non-null  float64\n",
            " 16  unan_dat_Mean    100000 non-null  float64\n",
            " 17  plcd_vce_Mean    100000 non-null  float64\n",
            " 18  plcd_dat_Mean    100000 non-null  float64\n",
            " 19  recv_vce_Mean    100000 non-null  float64\n",
            " 20  recv_sms_Mean    100000 non-null  float64\n",
            " 21  comp_vce_Mean    100000 non-null  float64\n",
            " 22  comp_dat_Mean    100000 non-null  float64\n",
            " 23  custcare_Mean    100000 non-null  float64\n",
            " 24  ccrndmou_Mean    100000 non-null  float64\n",
            " 25  cc_mou_Mean      100000 non-null  float64\n",
            " 26  inonemin_Mean    100000 non-null  float64\n",
            " 27  threeway_Mean    100000 non-null  float64\n",
            " 28  mou_cvce_Mean    100000 non-null  float64\n",
            " 29  mou_cdat_Mean    100000 non-null  float64\n",
            " 30  mou_rvce_Mean    100000 non-null  float64\n",
            " 31  owylis_vce_Mean  100000 non-null  float64\n",
            " 32  mouowylisv_Mean  100000 non-null  float64\n",
            " 33  iwylis_vce_Mean  100000 non-null  float64\n",
            " 34  mouiwylisv_Mean  100000 non-null  float64\n",
            " 35  peak_vce_Mean    100000 non-null  float64\n",
            " 36  peak_dat_Mean    100000 non-null  float64\n",
            " 37  mou_peav_Mean    100000 non-null  float64\n",
            " 38  mou_pead_Mean    100000 non-null  float64\n",
            " 39  opk_vce_Mean     100000 non-null  float64\n",
            " 40  opk_dat_Mean     100000 non-null  float64\n",
            " 41  mou_opkv_Mean    100000 non-null  float64\n",
            " 42  mou_opkd_Mean    100000 non-null  float64\n",
            " 43  drop_blk_Mean    100000 non-null  float64\n",
            " 44  attempt_Mean     100000 non-null  float64\n",
            " 45  complete_Mean    100000 non-null  float64\n",
            " 46  callfwdv_Mean    100000 non-null  float64\n",
            " 47  callwait_Mean    100000 non-null  float64\n",
            " 48  churn            100000 non-null  int64  \n",
            " 49  months           100000 non-null  int64  \n",
            " 50  Customer_ID      100000 non-null  int64  \n",
            "dtypes: float64(48), int64(3)\n",
            "memory usage: 38.9 MB\n"
          ]
        }
      ],
      "source": [
        "print(client.info())\n",
        "print('-----------------------------')\n",
        "record.info()"
      ]
    },
    {
      "cell_type": "code",
      "execution_count": null,
      "metadata": {
        "id": "Q4lSlAURn4f7",
        "colab": {
          "base_uri": "https://localhost:8080/"
        },
        "outputId": "f2c49392-ab06-4ae1-a156-0525625865e6"
      },
      "outputs": [
        {
          "output_type": "execute_result",
          "data": {
            "text/plain": [
              "(100000, 51)"
            ]
          },
          "metadata": {},
          "execution_count": 9
        }
      ],
      "source": [
        "record.shape"
      ]
    },
    {
      "cell_type": "code",
      "source": [
        "all_df = pd.merge(client, record, on='Customer_ID', how='outer')\n",
        "all_df_ = all_df.copy()"
      ],
      "metadata": {
        "id": "HDJeqsddOyWC"
      },
      "execution_count": null,
      "outputs": []
    },
    {
      "cell_type": "markdown",
      "source": [
        "## outlier처리"
      ],
      "metadata": {
        "id": "2p9EzpgJXswe"
      }
    },
    {
      "cell_type": "code",
      "source": [
        "cleandf = all_df.copy()\n",
        "cleandf = all_df[all_df[\"totrev\"] < 20000]\n",
        "cleandf = cleandf[cleandf[\"totmou\"] < 200000]\n",
        "cleandf = cleandf[cleandf[\"uniqsubs\"] < 150]\n",
        "cleandf = cleandf[all_df[\"actvsubs\"] < 30]\n",
        "cleandf = cleandf[cleandf[\"adjmou\"] < 200000]\n",
        "\n",
        "all_df_ = cleandf\n",
        "\n",
        "#hnd_webcap\n",
        "all_df_[\"hnd_webcap\"].replace(\"UNKW\",np.nan,inplace= True)"
      ],
      "metadata": {
        "id": "pTg0M9POQUow"
      },
      "execution_count": null,
      "outputs": []
    },
    {
      "cell_type": "markdown",
      "source": [
        "## encoding"
      ],
      "metadata": {
        "id": "SEjAOORJX3U0"
      }
    },
    {
      "cell_type": "code",
      "source": [
        "#2\n",
        "E = LabelEncoder()\n",
        "Larray = [\"asl_flag\",\"refurb_new\",\"kid0_2\",\"kid3_5\",\"kid6_10\",\n",
        "          \"kid11_15\",\"kid16_17\",\"creditcd\"]\n",
        "for i in range(len(Larray)):\n",
        "    Labeled = E.fit_transform(all_df_[Larray[i]])\n",
        "    all_df_[Larray[i]] = Labeled\n"
      ],
      "metadata": {
        "id": "0jji5kuCcY6n"
      },
      "execution_count": null,
      "outputs": []
    },
    {
      "cell_type": "code",
      "source": [
        "# some\n",
        "\n",
        "ColumnsOneHot = [\"infobase\",\"dwlltype\",\"ownrent\",\"hnd_webcap\",\"new_cell\",\"prizm_social_one\",\n",
        "                 \"dualband\",\"marital\",\"HHstatin\"]\n",
        "encoder = OneHotEncoder(sparse_output = False)\n",
        "\n",
        "client_encoded = pd.get_dummies(all_df_[ColumnsOneHot])\n",
        "\n",
        "all_df_.drop(columns=ColumnsOneHot, inplace=True)\n",
        "all_df_ = pd.concat([all_df_, client_encoded], axis=1)"
      ],
      "metadata": {
        "id": "EkpyIX20ccHC"
      },
      "execution_count": null,
      "outputs": []
    },
    {
      "cell_type": "code",
      "source": [
        "# Target Encoding\n",
        "encoder = TargetEncoder()\n",
        "Targetcolumns = [\"ethnic\",\"dwllsize\",\"crclscod\",\"area\"]\n",
        "for j in Targetcolumns:\n",
        "  all_df_[j] = encoder.fit_transform(all_df_[j] ,all_df_[\"churn\"])"
      ],
      "metadata": {
        "id": "sw0lp46rcjxn"
      },
      "execution_count": null,
      "outputs": []
    },
    {
      "cell_type": "code",
      "source": [
        "null_counts = all_df_.isnull().sum()\n",
        "null_counts[null_counts > 0]"
      ],
      "metadata": {
        "colab": {
          "base_uri": "https://localhost:8080/",
          "height": 868
        },
        "id": "NU6s5LjDdqCI",
        "outputId": "69845a9d-ddb7-4aa8-ee7d-5719f7acd921"
      },
      "execution_count": null,
      "outputs": [
        {
          "output_type": "execute_result",
          "data": {
            "text/plain": [
              "avg6mou         2839\n",
              "avg6qty         2839\n",
              "avg6rev         2839\n",
              "hnd_price        847\n",
              "phones             1\n",
              "models             1\n",
              "truck           1732\n",
              "rv              1732\n",
              "lor            30189\n",
              "adults         23018\n",
              "income         25435\n",
              "numbcars       49364\n",
              "forgntvl        1732\n",
              "eqpdays            1\n",
              "rev_Mean         357\n",
              "mou_Mean         357\n",
              "totmrc_Mean      357\n",
              "da_Mean          357\n",
              "ovrmou_Mean      357\n",
              "ovrrev_Mean      357\n",
              "vceovr_Mean      357\n",
              "datovr_Mean      357\n",
              "roam_Mean        357\n",
              "change_mou       891\n",
              "change_rev       891\n",
              "dtype: int64"
            ],
            "text/html": [
              "<div>\n",
              "<style scoped>\n",
              "    .dataframe tbody tr th:only-of-type {\n",
              "        vertical-align: middle;\n",
              "    }\n",
              "\n",
              "    .dataframe tbody tr th {\n",
              "        vertical-align: top;\n",
              "    }\n",
              "\n",
              "    .dataframe thead th {\n",
              "        text-align: right;\n",
              "    }\n",
              "</style>\n",
              "<table border=\"1\" class=\"dataframe\">\n",
              "  <thead>\n",
              "    <tr style=\"text-align: right;\">\n",
              "      <th></th>\n",
              "      <th>0</th>\n",
              "    </tr>\n",
              "  </thead>\n",
              "  <tbody>\n",
              "    <tr>\n",
              "      <th>avg6mou</th>\n",
              "      <td>2839</td>\n",
              "    </tr>\n",
              "    <tr>\n",
              "      <th>avg6qty</th>\n",
              "      <td>2839</td>\n",
              "    </tr>\n",
              "    <tr>\n",
              "      <th>avg6rev</th>\n",
              "      <td>2839</td>\n",
              "    </tr>\n",
              "    <tr>\n",
              "      <th>hnd_price</th>\n",
              "      <td>847</td>\n",
              "    </tr>\n",
              "    <tr>\n",
              "      <th>phones</th>\n",
              "      <td>1</td>\n",
              "    </tr>\n",
              "    <tr>\n",
              "      <th>models</th>\n",
              "      <td>1</td>\n",
              "    </tr>\n",
              "    <tr>\n",
              "      <th>truck</th>\n",
              "      <td>1732</td>\n",
              "    </tr>\n",
              "    <tr>\n",
              "      <th>rv</th>\n",
              "      <td>1732</td>\n",
              "    </tr>\n",
              "    <tr>\n",
              "      <th>lor</th>\n",
              "      <td>30189</td>\n",
              "    </tr>\n",
              "    <tr>\n",
              "      <th>adults</th>\n",
              "      <td>23018</td>\n",
              "    </tr>\n",
              "    <tr>\n",
              "      <th>income</th>\n",
              "      <td>25435</td>\n",
              "    </tr>\n",
              "    <tr>\n",
              "      <th>numbcars</th>\n",
              "      <td>49364</td>\n",
              "    </tr>\n",
              "    <tr>\n",
              "      <th>forgntvl</th>\n",
              "      <td>1732</td>\n",
              "    </tr>\n",
              "    <tr>\n",
              "      <th>eqpdays</th>\n",
              "      <td>1</td>\n",
              "    </tr>\n",
              "    <tr>\n",
              "      <th>rev_Mean</th>\n",
              "      <td>357</td>\n",
              "    </tr>\n",
              "    <tr>\n",
              "      <th>mou_Mean</th>\n",
              "      <td>357</td>\n",
              "    </tr>\n",
              "    <tr>\n",
              "      <th>totmrc_Mean</th>\n",
              "      <td>357</td>\n",
              "    </tr>\n",
              "    <tr>\n",
              "      <th>da_Mean</th>\n",
              "      <td>357</td>\n",
              "    </tr>\n",
              "    <tr>\n",
              "      <th>ovrmou_Mean</th>\n",
              "      <td>357</td>\n",
              "    </tr>\n",
              "    <tr>\n",
              "      <th>ovrrev_Mean</th>\n",
              "      <td>357</td>\n",
              "    </tr>\n",
              "    <tr>\n",
              "      <th>vceovr_Mean</th>\n",
              "      <td>357</td>\n",
              "    </tr>\n",
              "    <tr>\n",
              "      <th>datovr_Mean</th>\n",
              "      <td>357</td>\n",
              "    </tr>\n",
              "    <tr>\n",
              "      <th>roam_Mean</th>\n",
              "      <td>357</td>\n",
              "    </tr>\n",
              "    <tr>\n",
              "      <th>change_mou</th>\n",
              "      <td>891</td>\n",
              "    </tr>\n",
              "    <tr>\n",
              "      <th>change_rev</th>\n",
              "      <td>891</td>\n",
              "    </tr>\n",
              "  </tbody>\n",
              "</table>\n",
              "</div><br><label><b>dtype:</b> int64</label>"
            ]
          },
          "metadata": {},
          "execution_count": 11
        }
      ]
    },
    {
      "cell_type": "markdown",
      "source": [
        "## 결손값 보관"
      ],
      "metadata": {
        "id": "XWyQmpPPX85x"
      }
    },
    {
      "cell_type": "code",
      "source": [
        "all_df_except_null = all_df_[all_df_['phones'].notnull()&all_df_[\"rev_Mean\"].notnull()&all_df_['change_mou'].notnull()&all_df_['hnd_price'].notnull()]"
      ],
      "metadata": {
        "id": "fWyoL_9sRvXm"
      },
      "execution_count": null,
      "outputs": []
    },
    {
      "cell_type": "code",
      "source": [
        "## 삭제 처리\n",
        "all_df_except_null[\"forgntvl\"].fillna(0.0, inplace=True)\n",
        "all_df_except_null[\"rv\"].fillna(0.0, inplace=True)\n",
        "all_df_except_null[\"truck\"].fillna(0.0, inplace=True)"
      ],
      "metadata": {
        "id": "Rgk_guymm-36"
      },
      "execution_count": null,
      "outputs": []
    },
    {
      "cell_type": "markdown",
      "source": [
        "\n",
        "正規分布補完"
      ],
      "metadata": {
        "id": "160LqXvpZYzz"
      }
    },
    {
      "cell_type": "code",
      "source": [
        "all_df_except_null_avg6mou_mean = all_df_except_null[\"avg6mou\"].mean()\n",
        "all_df_except_null_avg6qty_mean = all_df_except_null[\"avg6qty\"].mean()\n",
        "all_df_except_null_avg6rev_mean = all_df_except_null[\"avg6rev\"].mean()\n",
        "\n",
        "all_df_except_null_avg6mou_std = all_df_except_null[\"avg6mou\"].std()\n",
        "all_df_except_null_avg6qty_std = all_df_except_null[\"avg6qty\"].std()\n",
        "all_df_except_null_avg6rev_std = all_df_except_null[\"avg6rev\"].std()\n",
        "\n",
        "all_df_except_null_2 = all_df_except_null.copy()\n",
        "\n",
        "# 欠損値の位置を取得\n",
        "missing_indices = all_df_except_null_2[all_df_except_null_2['avg6mou'].isna()].index\n",
        "\n",
        "print(missing_indices.shape)\n",
        "\n",
        "# 正規分布からランダムに値をサンプリングして補完\n",
        "for index in missing_indices:\n",
        "    all_df_except_null_2.at[index, 'avg6mou'] = np.random.normal(all_df_except_null_avg6mou_mean, all_df_except_null_avg6mou_std)\n",
        "    all_df_except_null_2.at[index, 'avg6qty'] = np.random.normal(all_df_except_null_avg6qty_mean, all_df_except_null_avg6qty_std)\n",
        "    all_df_except_null_2.at[index, 'avg6rev'] = np.random.normal(all_df_except_null_avg6rev_mean, all_df_except_null_avg6rev_std)"
      ],
      "metadata": {
        "id": "7YqhOoUQZuY1",
        "colab": {
          "base_uri": "https://localhost:8080/"
        },
        "outputId": "acc90617-527a-49af-cd1b-e6c6ace4e4f7"
      },
      "execution_count": null,
      "outputs": [
        {
          "output_type": "stream",
          "name": "stdout",
          "text": [
            "(2730,)\n"
          ]
        }
      ]
    },
    {
      "cell_type": "code",
      "source": [
        "all_df_except_null_counts2 = all_df_except_null_2.isnull().sum()\n",
        "all_df_except_null_counts2[all_df_except_null_counts2 > 0]"
      ],
      "metadata": {
        "colab": {
          "base_uri": "https://localhost:8080/",
          "height": 209
        },
        "id": "4W8NY_g3f868",
        "outputId": "521200d0-566c-4945-bb53-8107c98824a9"
      },
      "execution_count": null,
      "outputs": [
        {
          "output_type": "execute_result",
          "data": {
            "text/plain": [
              "lor         29634\n",
              "adults      22579\n",
              "income      24948\n",
              "numbcars    48424\n",
              "dtype: int64"
            ],
            "text/html": [
              "<div>\n",
              "<style scoped>\n",
              "    .dataframe tbody tr th:only-of-type {\n",
              "        vertical-align: middle;\n",
              "    }\n",
              "\n",
              "    .dataframe tbody tr th {\n",
              "        vertical-align: top;\n",
              "    }\n",
              "\n",
              "    .dataframe thead th {\n",
              "        text-align: right;\n",
              "    }\n",
              "</style>\n",
              "<table border=\"1\" class=\"dataframe\">\n",
              "  <thead>\n",
              "    <tr style=\"text-align: right;\">\n",
              "      <th></th>\n",
              "      <th>0</th>\n",
              "    </tr>\n",
              "  </thead>\n",
              "  <tbody>\n",
              "    <tr>\n",
              "      <th>lor</th>\n",
              "      <td>29634</td>\n",
              "    </tr>\n",
              "    <tr>\n",
              "      <th>adults</th>\n",
              "      <td>22579</td>\n",
              "    </tr>\n",
              "    <tr>\n",
              "      <th>income</th>\n",
              "      <td>24948</td>\n",
              "    </tr>\n",
              "    <tr>\n",
              "      <th>numbcars</th>\n",
              "      <td>48424</td>\n",
              "    </tr>\n",
              "  </tbody>\n",
              "</table>\n",
              "</div><br><label><b>dtype:</b> int64</label>"
            ]
          },
          "metadata": {},
          "execution_count": 19
        }
      ]
    },
    {
      "cell_type": "markdown",
      "source": [
        "KNNimputer보관"
      ],
      "metadata": {
        "id": "c6Udt2NvYZpy"
      }
    },
    {
      "cell_type": "code",
      "source": [
        "imputer = KNNImputer(n_neighbors=3)\n",
        "all_df_except_null_3_array = imputer.fit_transform(all_df_except_null_2)\n",
        "\n",
        "all_df_except_null_3 = pd.DataFrame(all_df_except_null_3_array, columns=all_df_except_null_2.columns)\n",
        "\n",
        "all_df_except_null_3.to_csv('./submission.csv', index=False)"
      ],
      "metadata": {
        "id": "oqc2tAmloeVL"
      },
      "execution_count": null,
      "outputs": []
    }
  ],
  "metadata": {
    "colab": {
      "provenance": [],
      "toc_visible": true
    },
    "kernelspec": {
      "display_name": "Python 3",
      "name": "python3"
    },
    "language_info": {
      "codemirror_mode": {
        "name": "ipython",
        "version": 3
      },
      "file_extension": ".py",
      "mimetype": "text/x-python",
      "name": "python",
      "nbconvert_exporter": "python",
      "pygments_lexer": "ipython3",
      "version": "3.12.4"
    }
  },
  "nbformat": 4,
  "nbformat_minor": 0
}